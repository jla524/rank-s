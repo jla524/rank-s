{
 "cells": [
  {
   "cell_type": "markdown",
   "metadata": {},
   "source": [
    "# Suggest a new rank distribution\n",
    "\n",
    "Currently we have:\n",
    "- A+: 0 - 36\n",
    "- A++: 37 - 162\n",
    "- S: 163 - 544\n",
    "- S+: 545+\n",
    "\n",
    "It's quite difficult to rank up with this distribution. So let's try and come up with a new one."
   ]
  },
  {
   "cell_type": "code",
   "execution_count": 1,
   "metadata": {},
   "outputs": [],
   "source": [
    "@enum Rank begin\n",
    "    s = 243\n",
    "    a1 = 81\n",
    "    a2 = 27\n",
    "    a3 = 9\n",
    "    b1 = 3\n",
    "    b2 = 1\n",
    "end"
   ]
  },
  {
   "cell_type": "code",
   "execution_count": 2,
   "metadata": {},
   "outputs": [
    {
     "data": {
      "text/plain": [
       "compute_rank (generic function with 1 method)"
      ]
     },
     "execution_count": 2,
     "metadata": {},
     "output_type": "execute_result"
    }
   ],
   "source": [
    "function compute_rank(score)\n",
    "    @assert score >= 0\n",
    "    if score > Integer(s)\n",
    "        level = \"S+\"\n",
    "    elseif score > Integer(a1)\n",
    "        level = \"S\"\n",
    "    elseif score > Integer(a2)\n",
    "        level = \"A++\"\n",
    "    elseif score > Integer(a3)\n",
    "        level = \"A+\"\n",
    "    elseif score > Integer(b1)\n",
    "        level = \"B+\"\n",
    "    elseif score > Integer(b2)\n",
    "        level = \"B\"\n",
    "    else\n",
    "        level = \"Unranked\"\n",
    "    end\n",
    "    level\n",
    "end"
   ]
  },
  {
   "cell_type": "markdown",
   "metadata": {},
   "source": [
    "For reference, my score is around 16. That give me a rank of A+."
   ]
  },
  {
   "cell_type": "code",
   "execution_count": 3,
   "metadata": {},
   "outputs": [
    {
     "data": {
      "text/plain": [
       "\"A+\""
      ]
     },
     "execution_count": 3,
     "metadata": {},
     "output_type": "execute_result"
    }
   ],
   "source": [
    "my_score = 16\n",
    "compute_rank(my_score)"
   ]
  },
  {
   "cell_type": "markdown",
   "metadata": {},
   "source": [
    "Using the same commit offset (1.65), I only need half the number of commits to rank up."
   ]
  },
  {
   "cell_type": "code",
   "execution_count": 4,
   "metadata": {},
   "outputs": [
    {
     "name": "stdout",
     "output_type": "stream",
     "text": [
      "You need 667.0 commits, or around 1.8 commits a day for the next 365 days.\n"
     ]
    }
   ],
   "source": [
    "function calculate_commmits(current_score, next_rank)\n",
    "    @assert current_score < next_rank\n",
    "    gap = (next_rank - current_score) * 100\n",
    "    commits = round(gap / 1.65)\n",
    "    daily = round(commits / 365, digits=1)\n",
    "    println(\"You need $commits commits, or around \",\n",
    "            \"$daily commits a day for the next 365 days.\")\n",
    "end\n",
    "\n",
    "calculate_commmits(my_score, Integer(a2))"
   ]
  },
  {
   "cell_type": "code",
   "execution_count": null,
   "metadata": {},
   "outputs": [],
   "source": []
  }
 ],
 "metadata": {
  "kernelspec": {
   "display_name": "Julia 1.7.1",
   "language": "julia",
   "name": "julia-1.7"
  },
  "language_info": {
   "file_extension": ".jl",
   "mimetype": "application/julia",
   "name": "julia",
   "version": "1.7.1"
  },
  "orig_nbformat": 4
 },
 "nbformat": 4,
 "nbformat_minor": 2
}
