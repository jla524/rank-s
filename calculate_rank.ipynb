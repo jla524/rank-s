{
 "cells": [
  {
   "cell_type": "markdown",
   "metadata": {},
   "source": [
    "# Reverse engineer the rank algorithm\n",
    "\n",
    "Adapted from [calculateRank.js][1]\n",
    "\n",
    "[1]: https://github.com/anuraghazra/github-readme-stats/blob/f83080601e87dfe76b003cd08c675cbb2f6204e9/src/calculateRank.js#L2"
   ]
  },
  {
   "cell_type": "markdown",
   "metadata": {},
   "source": [
    "### Define enums and stats class"
   ]
  },
  {
   "cell_type": "code",
   "execution_count": null,
   "metadata": {},
   "outputs": [],
   "source": [
    "offset = Dict([(\"commits\", 1.65),\n",
    "               (\"contribs\", 1.65),\n",
    "               (\"issues\", 1),\n",
    "               (\"stars\", 0.75),\n",
    "               (\"prs\", 0.5),\n",
    "               (\"followers\", 0.45),\n",
    "               (\"repos\", 1)])"
   ]
  },
  {
   "cell_type": "code",
   "execution_count": null,
   "metadata": {},
   "outputs": [],
   "source": [
    "@enum Rank begin\n",
    "    s = 1\n",
    "    a1 = 25\n",
    "    a2 = 45\n",
    "    a3 = 60\n",
    "    b = 100\n",
    "end"
   ]
  },
  {
   "cell_type": "code",
   "execution_count": null,
   "metadata": {},
   "outputs": [],
   "source": [
    "function normalcdf(μ, σ, ∑)\n",
    "    z = (∑ - μ) / sqrt(2 * σ * σ) \n",
    "    t = 1 / (1 + 0.3275911 * abs(z))\n",
    "    w = (0.254829592, -0.284496736, 1.421413741, -1.453152027, 1.061405429)\n",
    "    erf = 1 - ((((w[5] * t + w[4]) * t + w[3]) * t + w[2]) * t + w[1]) * t * exp(-z * z)\n",
    "    sign = z < 0 ? -1 : 1\n",
    "    (1 + sign * erf) / 2\n",
    "end"
   ]
  },
  {
   "cell_type": "markdown",
   "metadata": {},
   "source": [
    "### Define compute functions"
   ]
  },
  {
   "cell_type": "code",
   "execution_count": null,
   "metadata": {},
   "outputs": [],
   "source": [
    "function compute_score(stats)\n",
    "    @assert keys(offset) == keys(stats)\n",
    "    score = 0\n",
    "    for key in keys(offset)\n",
    "        score += offset[key] * stats[key]\n",
    "    end\n",
    "    score / 100\n",
    "end"
   ]
  },
  {
   "cell_type": "code",
   "execution_count": null,
   "metadata": {},
   "outputs": [],
   "source": [
    "function compute_normalized_score(score)\n",
    "    total_rank = sum(Integer, [s, a1, a2, a3, b])\n",
    "    total_offset = sum(values(offset))\n",
    "    normalized = normalcdf(score, total_rank, total_offset)\n",
    "    normalized * 100\n",
    "end\n",
    "\n",
    "compute_normalized_score(0)"
   ]
  },
  {
   "cell_type": "code",
   "execution_count": null,
   "metadata": {},
   "outputs": [],
   "source": [
    "function compute_rank(normalized_score)\n",
    "    if normalized_score < Integer(s)\n",
    "        level = \"S+\"\n",
    "    elseif normalized_score < Integer(a1)\n",
    "        level = \"S\"\n",
    "    elseif normalized_score < Integer(a2)\n",
    "        level = \"A++\"\n",
    "    elseif normalized_score < Integer(a3)\n",
    "        level = \"A+\"\n",
    "    elseif normalized_score < Integer(b)\n",
    "        level = \"B+\"\n",
    "    else\n",
    "        level = \"B\"\n",
    "    end\n",
    "    level\n",
    "end\n",
    "\n",
    "compute_normalized_score(0)"
   ]
  },
  {
   "cell_type": "markdown",
   "metadata": {},
   "source": [
    "### Sanity check with my GitHub stats"
   ]
  },
  {
   "cell_type": "code",
   "execution_count": null,
   "metadata": {},
   "outputs": [],
   "source": [
    "my_stats = Dict([(\"repos\", 33),\n",
    "                 (\"commits\", 880),\n",
    "                 (\"contribs\", 7),\n",
    "                 (\"followers\", 5),\n",
    "                 (\"prs\", 30),\n",
    "                 (\"issues\", 41),\n",
    "                 (\"stars\", 1)])\n",
    "my_score = compute_score(my_stats)\n",
    "my_normalized_score = compute_normalized_score(my_score)\n",
    "my_rank = compute_rank(my_normalized_score)\n",
    "println(\"score = $my_score rank = $my_rank\")"
   ]
  },
  {
   "cell_type": "markdown",
   "metadata": {},
   "source": [
    "### Everyone gets an A+!"
   ]
  },
  {
   "cell_type": "code",
   "execution_count": null,
   "metadata": {},
   "outputs": [],
   "source": [
    "zero_normalized_score = compute_normalized_score(0)\n",
    "zero_rank = compute_rank(zero_normalized_score)\n",
    "zero_rank"
   ]
  },
  {
   "cell_type": "markdown",
   "metadata": {},
   "source": [
    "### Find the rank distribution\n",
    "there's probably an O(1) way to do this..."
   ]
  },
  {
   "cell_type": "code",
   "execution_count": null,
   "metadata": {},
   "outputs": [],
   "source": [
    "def binary_search(function, target, lower=0, upper=1e4):\n",
    "    mid = -1\n",
    "    while lower + 1 < upper:\n",
    "        mid = (lower + upper) // 2\n",
    "        if function(mid) >= target:\n",
    "            lower = mid\n",
    "        else:\n",
    "            upper = mid\n",
    "    return mid\n",
    "\n",
    "\n",
    "find_distribution = partial(binary_search, function=compute_normalized_score)"
   ]
  },
  {
   "cell_type": "code",
   "execution_count": null,
   "metadata": {},
   "outputs": [],
   "source": [
    "reachables = (Rank.A2, Rank.DOUBLE_A, Rank.S)\n",
    "names = ('A++', 'S', 'S+')\n",
    "thresholds = {}\n",
    "for reachable, name in zip(reachables, names):\n",
    "    result = find_distribution(target=reachable)\n",
    "    print(f\"Score needed to reach {name}: {result}\")\n",
    "    thresholds[name] = result"
   ]
  },
  {
   "cell_type": "markdown",
   "metadata": {},
   "source": [
    "### How many commits until I reach the next rank?"
   ]
  },
  {
   "cell_type": "code",
   "execution_count": null,
   "metadata": {},
   "outputs": [],
   "source": [
    "def calculate_commits(current, next):\n",
    "    assert current < next\n",
    "    gap = (next - current) * 100\n",
    "    commits = round(gap / Offset.COMMITS)\n",
    "    per_day = round(commits / 365, 1)\n",
    "    print(f\"You need {commits} commits, or around \"\n",
    "          f\"{per_day} commits a day for the next 365 days.\")"
   ]
  },
  {
   "cell_type": "code",
   "execution_count": null,
   "metadata": {},
   "outputs": [],
   "source": [
    "calculate_commits(my_score, thresholds['A++'])"
   ]
  },
  {
   "cell_type": "code",
   "execution_count": null,
   "metadata": {},
   "outputs": [],
   "source": []
  }
 ],
 "metadata": {
  "interpreter": {
   "hash": "aee8b7b246df8f9039afb4144a1f6fd8d2ca17a180786b69acc140d282b71a49"
  },
  "kernelspec": {
   "display_name": "Julia 1.7.1",
   "language": "julia",
   "name": "julia-1.7"
  },
  "language_info": {
   "file_extension": ".jl",
   "mimetype": "application/julia",
   "name": "julia",
   "version": "1.7.1"
  },
  "orig_nbformat": 4
 },
 "nbformat": 4,
 "nbformat_minor": 2
}
