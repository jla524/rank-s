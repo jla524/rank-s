{
 "cells": [
  {
   "cell_type": "markdown",
   "metadata": {},
   "source": [
    "# Reverse engineer the rank algorithm\n",
    "\n",
    "Adapted from [calculateRank.js][1]\n",
    "\n",
    "[1]: https://github.com/anuraghazra/github-readme-stats/blob/f83080601e87dfe76b003cd08c675cbb2f6204e9/src/calculateRank.js#L2"
   ]
  },
  {
   "cell_type": "markdown",
   "metadata": {},
   "source": [
    "### Define constants"
   ]
  },
  {
   "cell_type": "code",
   "execution_count": 1,
   "metadata": {},
   "outputs": [
    {
     "data": {
      "text/plain": [
       "Dict{String, Real} with 7 entries:\n",
       "  \"stars\"     => 0.75\n",
       "  \"prs\"       => 0.5\n",
       "  \"repos\"     => 1\n",
       "  \"issues\"    => 1\n",
       "  \"commits\"   => 1.65\n",
       "  \"followers\" => 0.45\n",
       "  \"contribs\"  => 1.65"
      ]
     },
     "execution_count": 1,
     "metadata": {},
     "output_type": "execute_result"
    }
   ],
   "source": [
    "offset = Dict([(\"commits\", 1.65),\n",
    "               (\"contribs\", 1.65),\n",
    "               (\"issues\", 1),\n",
    "               (\"stars\", 0.75),\n",
    "               (\"prs\", 0.5),\n",
    "               (\"followers\", 0.45),\n",
    "               (\"repos\", 1)])"
   ]
  },
  {
   "cell_type": "code",
   "execution_count": 2,
   "metadata": {},
   "outputs": [],
   "source": [
    "@enum Rank begin\n",
    "    s = 1\n",
    "    a1 = 25\n",
    "    a2 = 45\n",
    "    a3 = 60\n",
    "    b = 100\n",
    "end"
   ]
  },
  {
   "cell_type": "markdown",
   "metadata": {},
   "source": [
    "### Define helper function"
   ]
  },
  {
   "cell_type": "code",
   "execution_count": 3,
   "metadata": {},
   "outputs": [
    {
     "data": {
      "text/plain": [
       "normalcdf (generic function with 1 method)"
      ]
     },
     "execution_count": 3,
     "metadata": {},
     "output_type": "execute_result"
    }
   ],
   "source": [
    "function normalcdf(μ, σ, ∑)\n",
    "    z = (∑ - μ) / sqrt(2 * σ * σ) \n",
    "    t = 1 / (1 + 0.3275911 * abs(z))\n",
    "    w = (0.254829592, -0.284496736, 1.421413741, -1.453152027, 1.061405429)\n",
    "    erf = 1 - ((((w[5] * t + w[4]) * t + w[3]) * t + w[2]) * t + w[1]) * t * exp(-z * z)\n",
    "    sign = z < 0 ? -1 : 1\n",
    "    (1 + sign * erf) / 2\n",
    "end"
   ]
  },
  {
   "cell_type": "markdown",
   "metadata": {},
   "source": [
    "### Define compute functions"
   ]
  },
  {
   "cell_type": "code",
   "execution_count": 4,
   "metadata": {},
   "outputs": [
    {
     "data": {
      "text/plain": [
       "compute_score (generic function with 1 method)"
      ]
     },
     "execution_count": 4,
     "metadata": {},
     "output_type": "execute_result"
    }
   ],
   "source": [
    "function compute_score(stats)\n",
    "    @assert keys(offset) == keys(stats)\n",
    "    score = 0\n",
    "    for key in keys(offset)\n",
    "        score += offset[key] * stats[key]\n",
    "    end\n",
    "    score / 100\n",
    "end"
   ]
  },
  {
   "cell_type": "code",
   "execution_count": 5,
   "metadata": {},
   "outputs": [
    {
     "data": {
      "text/plain": [
       "51.208736359772786"
      ]
     },
     "execution_count": 5,
     "metadata": {},
     "output_type": "execute_result"
    }
   ],
   "source": [
    "function compute_normalized_score(score)\n",
    "    total_rank = sum(Integer, [s, a1, a2, a3, b])\n",
    "    total_offset = sum(values(offset))\n",
    "    normalized = normalcdf(score, total_rank, total_offset)\n",
    "    normalized * 100\n",
    "end\n",
    "\n",
    "compute_normalized_score(0)"
   ]
  },
  {
   "cell_type": "code",
   "execution_count": 6,
   "metadata": {},
   "outputs": [
    {
     "data": {
      "text/plain": [
       "\"A+\""
      ]
     },
     "execution_count": 6,
     "metadata": {},
     "output_type": "execute_result"
    }
   ],
   "source": [
    "function compute_rank(normalized_score)\n",
    "    @assert normalized_score >= 0\n",
    "    if normalized_score < Integer(s)\n",
    "        level = \"S+\"\n",
    "    elseif normalized_score < Integer(a1)\n",
    "        level = \"S\"\n",
    "    elseif normalized_score < Integer(a2)\n",
    "        level = \"A++\"\n",
    "    elseif normalized_score < Integer(a3)\n",
    "        level = \"A+\"\n",
    "    elseif normalized_score < Integer(b)\n",
    "        level = \"B+\"\n",
    "    else\n",
    "        level = \"B\"\n",
    "    end\n",
    "    level\n",
    "end\n",
    "\n",
    "compute_rank(51.21)"
   ]
  },
  {
   "cell_type": "markdown",
   "metadata": {},
   "source": [
    "### Sanity check with my GitHub stats"
   ]
  },
  {
   "cell_type": "code",
   "execution_count": 7,
   "metadata": {},
   "outputs": [
    {
     "name": "stdout",
     "output_type": "stream",
     "text": [
      "score = 15.5555 rank = A+\n"
     ]
    }
   ],
   "source": [
    "my_stats = Dict([(\"repos\", 33),\n",
    "                 (\"commits\", 880),\n",
    "                 (\"contribs\", 7),\n",
    "                 (\"followers\", 5),\n",
    "                 (\"prs\", 30),\n",
    "                 (\"issues\", 41),\n",
    "                 (\"stars\", 1)])\n",
    "my_score = compute_score(my_stats)\n",
    "my_normalized_score = compute_normalized_score(my_score)\n",
    "my_rank = compute_rank(my_normalized_score)\n",
    "println(\"score = $my_score rank = $my_rank\")"
   ]
  },
  {
   "cell_type": "markdown",
   "metadata": {},
   "source": [
    "### Everyone gets an A+!"
   ]
  },
  {
   "cell_type": "code",
   "execution_count": 8,
   "metadata": {},
   "outputs": [
    {
     "data": {
      "text/plain": [
       "\"A+\""
      ]
     },
     "execution_count": 8,
     "metadata": {},
     "output_type": "execute_result"
    }
   ],
   "source": [
    "zero_normalized_score = compute_normalized_score(0)\n",
    "zero_rank = compute_rank(zero_normalized_score)\n",
    "zero_rank"
   ]
  },
  {
   "cell_type": "markdown",
   "metadata": {},
   "source": [
    "### Find the rank distribution\n",
    "\n",
    "We can perform the inverse of normalcdf to find the target in constant time, but for now, we will look for it using binary search"
   ]
  },
  {
   "cell_type": "code",
   "execution_count": 9,
   "metadata": {},
   "outputs": [
    {
     "data": {
      "text/plain": [
       "find_threshold (generic function with 1 method)"
      ]
     },
     "execution_count": 9,
     "metadata": {},
     "output_type": "execute_result"
    }
   ],
   "source": [
    "function binary_search(func, target, lower=-1, upper=1e3)\n",
    "    mid = -1\n",
    "    while lower <= upper\n",
    "        mid = (lower + upper) ÷ 2\n",
    "        if func(mid) < target\n",
    "            upper = mid - 1\n",
    "        else\n",
    "            lower = mid + 1\n",
    "        end\n",
    "    end\n",
    "    lower\n",
    "end\n",
    "\n",
    "find_threshold(x) = binary_search(compute_normalized_score, x)"
   ]
  },
  {
   "cell_type": "code",
   "execution_count": 10,
   "metadata": {},
   "outputs": [
    {
     "name": "stdout",
     "output_type": "stream",
     "text": [
      "score need to reach A++ = 37.0\n",
      "score need to reach S = 163.0\n",
      "score need to reach S+ = 545.0\n"
     ]
    }
   ],
   "source": [
    "names = (\"A++\", \"S\", \"S+\")\n",
    "ranks = (a2, a1, s)\n",
    "thresholds = Dict()\n",
    "for (name, rank) in zip(names, ranks)\n",
    "    threshold = find_threshold(Integer(rank))\n",
    "    println(\"score need to reach $name = $threshold\")\n",
    "    thresholds[name] = threshold\n",
    "end"
   ]
  },
  {
   "cell_type": "markdown",
   "metadata": {},
   "source": [
    "### How many commits until I reach the next rank?"
   ]
  },
  {
   "cell_type": "code",
   "execution_count": 11,
   "metadata": {},
   "outputs": [
    {
     "name": "stdout",
     "output_type": "stream",
     "text": [
      "You need 1300.0 commits, or around 3.6 commits a day for the next 365 days.\n"
     ]
    }
   ],
   "source": [
    "function calculate_commmits(current_score, next_rank)\n",
    "    @assert current_score < next_rank\n",
    "    gap = (next_rank - current_score) * 100\n",
    "    commits = round(gap / offset[\"commits\"])\n",
    "    daily = round(commits / 365, digits=1)\n",
    "    println(\"You need $commits commits, or around \",\n",
    "            \"$daily commits a day for the next 365 days.\")\n",
    "end\n",
    "\n",
    "calculate_commmits(my_score, thresholds[\"A++\"])"
   ]
  },
  {
   "cell_type": "code",
   "execution_count": null,
   "metadata": {},
   "outputs": [],
   "source": []
  }
 ],
 "metadata": {
  "interpreter": {
   "hash": "aee8b7b246df8f9039afb4144a1f6fd8d2ca17a180786b69acc140d282b71a49"
  },
  "kernelspec": {
   "display_name": "Julia 1.7.1",
   "language": "julia",
   "name": "julia-1.7"
  },
  "language_info": {
   "file_extension": ".jl",
   "mimetype": "application/julia",
   "name": "julia",
   "version": "1.7.1"
  },
  "orig_nbformat": 4
 },
 "nbformat": 4,
 "nbformat_minor": 2
}
