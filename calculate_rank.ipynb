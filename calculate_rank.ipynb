{
 "cells": [
  {
   "cell_type": "markdown",
   "metadata": {},
   "source": [
    "# Reverse engineer the rank algorithm\n",
    "\n",
    "Adapted from [calculateRank.js][1]\n",
    "\n",
    "[1]: https://github.com/anuraghazra/github-readme-stats/blob/f83080601e87dfe76b003cd08c675cbb2f6204e9/src/calculateRank.js#L2"
   ]
  },
  {
   "cell_type": "code",
   "execution_count": 1,
   "metadata": {},
   "outputs": [],
   "source": [
    "from math import sqrt, exp\n",
    "from functools import partial"
   ]
  },
  {
   "cell_type": "markdown",
   "metadata": {},
   "source": [
    "### Define enums and stats class"
   ]
  },
  {
   "cell_type": "code",
   "execution_count": 2,
   "metadata": {},
   "outputs": [],
   "source": [
    "class Offset:\n",
    "    COMMITS = 1.65\n",
    "    CONTRIBS = 1.65\n",
    "    ISSUES = 1\n",
    "    STARS = 0.75\n",
    "    PRS = 0.5\n",
    "    FOLLOWERS = 0.45\n",
    "    REPOS = 1\n",
    "\n",
    "\n",
    "class Rank:\n",
    "    S = 1\n",
    "    DOUBLE_A = 25\n",
    "    A2 = 45\n",
    "    A3 = 60\n",
    "    B = 100"
   ]
  },
  {
   "cell_type": "code",
   "execution_count": 3,
   "metadata": {},
   "outputs": [],
   "source": [
    "class Stats:\n",
    "    def __init__(self, counts):\n",
    "        self.__commits = counts.get('commits', 0)\n",
    "        self.__contribs = counts.get('contribs', 0)\n",
    "        self.__issues = counts.get('issues', 0)\n",
    "        self.__stars = counts.get('stars', 0)\n",
    "        self.__prs = counts.get('prs', 0)\n",
    "        self.__followers = counts.get('followers', 0)\n",
    "        self.__repos = counts.get('repos', 0)\n",
    "    \n",
    "    @property\n",
    "    def commits(self):\n",
    "        return self.__commits\n",
    "    \n",
    "    @property\n",
    "    def contribs(self):\n",
    "        return self.__contribs\n",
    "    \n",
    "    @property\n",
    "    def issues(self):\n",
    "        return self.__issues\n",
    "    \n",
    "    @property\n",
    "    def stars(self):\n",
    "        return self.__stars\n",
    "    \n",
    "    @property\n",
    "    def prs(self):\n",
    "        return self.__prs\n",
    "    \n",
    "    @property\n",
    "    def followers(self):\n",
    "        return self.__followers\n",
    "    \n",
    "    @property\n",
    "    def repos(self):\n",
    "        return self.__repos"
   ]
  },
  {
   "cell_type": "markdown",
   "metadata": {},
   "source": [
    "### Define helper functions"
   ]
  },
  {
   "cell_type": "code",
   "execution_count": 4,
   "metadata": {},
   "outputs": [],
   "source": [
    "def sum_enum(key):\n",
    "    offsets = (Offset.COMMITS + Offset.CONTRIBS\n",
    "               + Offset.ISSUES + Offset.STARS + Offset.PRS\n",
    "               + Offset.FOLLOWERS + Offset.REPOS)\n",
    "    ranks = Rank.S + Rank.DOUBLE_A + Rank.A2 + Rank.A3 + Rank.B\n",
    "    sums = {'offset': offsets, 'rank': ranks}\n",
    "    return sums.get(key, 0)"
   ]
  },
  {
   "cell_type": "code",
   "execution_count": 5,
   "metadata": {},
   "outputs": [],
   "source": [
    "def normalcdf(mean, sigma, to):\n",
    "    z = (to - mean) / sqrt(2 * sigma * sigma)\n",
    "    t = 1 / (1 + 0.3275911 * abs(z))\n",
    "    a1 = 0.254829592\n",
    "    a2 = -0.284496736\n",
    "    a3 = 1.421413741\n",
    "    a4 = -1.453152027\n",
    "    a5 = 1.061405429\n",
    "    erf = 1 - ((((a5 * t + a4) * t + a3) * t + a2) * t + a1) * t * exp(-z * z)\n",
    "    sign = -1 if z < 0 else 1\n",
    "    return (1 + sign * erf) / 2"
   ]
  },
  {
   "cell_type": "markdown",
   "metadata": {},
   "source": [
    "### Define compute functions"
   ]
  },
  {
   "cell_type": "code",
   "execution_count": 6,
   "metadata": {},
   "outputs": [],
   "source": [
    "def compute_score(stats):\n",
    "    score = (stats.commits * Offset.COMMITS\n",
    "             + stats.contribs * Offset.CONTRIBS\n",
    "             + stats.issues * Offset.ISSUES\n",
    "             + stats.stars * Offset.STARS\n",
    "             + stats.prs * Offset.PRS\n",
    "             + stats.followers * Offset.FOLLOWERS\n",
    "             + stats.repos * Offset.REPOS)\n",
    "    return score / 100"
   ]
  },
  {
   "cell_type": "code",
   "execution_count": 7,
   "metadata": {},
   "outputs": [],
   "source": [
    "def compute_normalized_score(score):\n",
    "    total_offset = sum_enum('offset')\n",
    "    total_rank = sum_enum('rank')\n",
    "    normalized = normalcdf(score, total_rank, total_offset)\n",
    "    return normalized * 100"
   ]
  },
  {
   "cell_type": "code",
   "execution_count": 8,
   "metadata": {},
   "outputs": [],
   "source": [
    "def compute_rank(normalized_score):\n",
    "    level = 'B'\n",
    "    if normalized_score < Rank.B:\n",
    "        level = 'B+'\n",
    "    if normalized_score < Rank.A3:\n",
    "        level = 'A+'\n",
    "    if normalized_score < Rank.A2:\n",
    "        level = 'A++'\n",
    "    if normalized_score < Rank.DOUBLE_A:\n",
    "        level = 'S'\n",
    "    if normalized_score < Rank.S:\n",
    "        level = 'S+'\n",
    "    return level"
   ]
  },
  {
   "cell_type": "markdown",
   "metadata": {},
   "source": [
    "### Sanity check with my GitHub stats"
   ]
  },
  {
   "cell_type": "code",
   "execution_count": 9,
   "metadata": {},
   "outputs": [
    {
     "name": "stdout",
     "output_type": "stream",
     "text": [
      "score = 15.5555 rank = A+\n"
     ]
    }
   ],
   "source": [
    "my_profile = {'repos': 33,\n",
    "              'commits': 880, \n",
    "              'contribs': 7,\n",
    "              'followers': 5,\n",
    "              'prs': 30,\n",
    "              'issues': 41,\n",
    "              'stars': 1}\n",
    "my_stats = Stats(my_profile)\n",
    "my_score = compute_score(my_stats)\n",
    "my_normalized_score = compute_normalized_score(my_score)\n",
    "my_rank = compute_rank(my_normalized_score)\n",
    "print(f\"score = {my_score} rank = {my_rank}\")"
   ]
  },
  {
   "cell_type": "markdown",
   "metadata": {},
   "source": [
    "### Everyone gets an A+!"
   ]
  },
  {
   "cell_type": "code",
   "execution_count": 10,
   "metadata": {},
   "outputs": [
    {
     "data": {
      "text/plain": [
       "'A+'"
      ]
     },
     "execution_count": 10,
     "metadata": {},
     "output_type": "execute_result"
    }
   ],
   "source": [
    "zero_normalized_score = compute_normalized_score(0)\n",
    "zero_rank = compute_rank(zero_normalized_score)\n",
    "zero_rank"
   ]
  },
  {
   "cell_type": "markdown",
   "metadata": {},
   "source": [
    "### Find the rank distribution\n",
    "there's probably an O(1) way to do this..."
   ]
  },
  {
   "cell_type": "code",
   "execution_count": 11,
   "metadata": {},
   "outputs": [],
   "source": [
    "def binary_search(function, target, lower=0, upper=1e4):\n",
    "    mid = -1\n",
    "    while lower + 1 < upper:\n",
    "        mid = (lower + upper) // 2\n",
    "        if function(mid) >= target:\n",
    "            lower = mid\n",
    "        else:\n",
    "            upper = mid\n",
    "    return mid\n",
    "\n",
    "\n",
    "find_distribution = partial(binary_search, function=compute_normalized_score)"
   ]
  },
  {
   "cell_type": "code",
   "execution_count": 12,
   "metadata": {},
   "outputs": [
    {
     "name": "stdout",
     "output_type": "stream",
     "text": [
      "Score needed to reach A++: 37.0\n",
      "Score needed to reach S: 163.0\n",
      "Score needed to reach S+: 545.0\n"
     ]
    }
   ],
   "source": [
    "reachables = (Rank.A2, Rank.DOUBLE_A, Rank.S)\n",
    "names = ('A++', 'S', 'S+')\n",
    "thresholds = {}\n",
    "for reachable, name in zip(reachables, names):\n",
    "    result = find_distribution(target=reachable)\n",
    "    print(f\"Score needed to reach {name}: {result}\")\n",
    "    thresholds[name] = result"
   ]
  },
  {
   "cell_type": "markdown",
   "metadata": {},
   "source": [
    "### How many commits until I reach the next rank?"
   ]
  },
  {
   "cell_type": "code",
   "execution_count": 13,
   "metadata": {},
   "outputs": [],
   "source": [
    "def calculate_commits(current, next):\n",
    "    assert current < next\n",
    "    gap = (next - current) * 100\n",
    "    commits = round(gap / Offset.COMMITS)\n",
    "    per_day = round(commits / 365, 1)\n",
    "    print(f\"You need {commits} commits, or around \"\n",
    "          f\"{per_day} commits a day for the next 365 days.\")"
   ]
  },
  {
   "cell_type": "code",
   "execution_count": 14,
   "metadata": {},
   "outputs": [
    {
     "name": "stdout",
     "output_type": "stream",
     "text": [
      "You need 1300 commits, or around 3.6 commits a day for the next 365 days.\n"
     ]
    }
   ],
   "source": [
    "calculate_commits(my_score, thresholds['A++'])"
   ]
  },
  {
   "cell_type": "code",
   "execution_count": null,
   "metadata": {},
   "outputs": [],
   "source": []
  }
 ],
 "metadata": {
  "interpreter": {
   "hash": "aee8b7b246df8f9039afb4144a1f6fd8d2ca17a180786b69acc140d282b71a49"
  },
  "kernelspec": {
   "display_name": "Python 3.9.9 64-bit",
   "language": "python",
   "name": "python3"
  },
  "language_info": {
   "codemirror_mode": {
    "name": "ipython",
    "version": 3
   },
   "file_extension": ".py",
   "mimetype": "text/x-python",
   "name": "python",
   "nbconvert_exporter": "python",
   "pygments_lexer": "ipython3",
   "version": "3.9.10"
  },
  "orig_nbformat": 4
 },
 "nbformat": 4,
 "nbformat_minor": 2
}
